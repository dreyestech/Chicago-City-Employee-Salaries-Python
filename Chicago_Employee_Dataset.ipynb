{
 "cells": [
  {
   "cell_type": "code",
   "execution_count": 1,
   "id": "0dbbdb49",
   "metadata": {},
   "outputs": [],
   "source": [
    "import numpy as np\n",
    "import pandas as pd\n",
    "import requests\n",
    "from sklearn.impute import SimpleImputer"
   ]
  },
  {
   "cell_type": "code",
   "execution_count": 2,
   "id": "fae346d9",
   "metadata": {},
   "outputs": [],
   "source": [
    "url = 'https://data.cityofchicago.org/resource/n4bx-5kf6.json'"
   ]
  },
  {
   "cell_type": "code",
   "execution_count": 3,
   "id": "10e2c96b",
   "metadata": {},
   "outputs": [],
   "source": [
    "#make get request for city of chicago salary data\n",
    "r = requests.get(url)"
   ]
  },
  {
   "cell_type": "code",
   "execution_count": 4,
   "id": "d114d0e3",
   "metadata": {},
   "outputs": [
    {
     "data": {
      "text/plain": [
       "<Response [200]>"
      ]
     },
     "execution_count": 4,
     "metadata": {},
     "output_type": "execute_result"
    }
   ],
   "source": [
    "#check response is 200\n",
    "r"
   ]
  },
  {
   "cell_type": "code",
   "execution_count": 5,
   "id": "8b936151",
   "metadata": {},
   "outputs": [],
   "source": [
    "#save json content to json save to dataframe\n",
    "json = r.json()"
   ]
  },
  {
   "cell_type": "code",
   "execution_count": 6,
   "id": "fcc802e9",
   "metadata": {},
   "outputs": [],
   "source": [
    "salary_df = pd.DataFrame(json)"
   ]
  },
  {
   "cell_type": "code",
   "execution_count": 7,
   "id": "02ec369d",
   "metadata": {},
   "outputs": [
    {
     "data": {
      "text/html": [
       "<div>\n",
       "<style scoped>\n",
       "    .dataframe tbody tr th:only-of-type {\n",
       "        vertical-align: middle;\n",
       "    }\n",
       "\n",
       "    .dataframe tbody tr th {\n",
       "        vertical-align: top;\n",
       "    }\n",
       "\n",
       "    .dataframe thead th {\n",
       "        text-align: right;\n",
       "    }\n",
       "</style>\n",
       "<table border=\"1\" class=\"dataframe\">\n",
       "  <thead>\n",
       "    <tr style=\"text-align: right;\">\n",
       "      <th></th>\n",
       "      <th>name</th>\n",
       "      <th>job_titles</th>\n",
       "      <th>department</th>\n",
       "      <th>full_or_part_time</th>\n",
       "      <th>salary_or_hourly</th>\n",
       "      <th>annual_salary</th>\n",
       "      <th>frequency_description</th>\n",
       "      <th>hourly_rate</th>\n",
       "    </tr>\n",
       "  </thead>\n",
       "  <tbody>\n",
       "    <tr>\n",
       "      <th>0</th>\n",
       "      <td>AARON, JEFFERY M</td>\n",
       "      <td>LIEUTENANT</td>\n",
       "      <td>DEPARTMENT OF POLICE</td>\n",
       "      <td>F</td>\n",
       "      <td>SALARY</td>\n",
       "      <td>141552</td>\n",
       "      <td>NaN</td>\n",
       "      <td>NaN</td>\n",
       "    </tr>\n",
       "    <tr>\n",
       "      <th>1</th>\n",
       "      <td>AARON, KARINA</td>\n",
       "      <td>POLICE OFFICER (ASSIGNED AS DETECTIVE)</td>\n",
       "      <td>DEPARTMENT OF POLICE</td>\n",
       "      <td>F</td>\n",
       "      <td>SALARY</td>\n",
       "      <td>113568</td>\n",
       "      <td>NaN</td>\n",
       "      <td>NaN</td>\n",
       "    </tr>\n",
       "    <tr>\n",
       "      <th>2</th>\n",
       "      <td>ABAD JR, VICENTE M</td>\n",
       "      <td>CIVIL ENGINEER IV</td>\n",
       "      <td>DEPT OF WATER MANAGEMENT</td>\n",
       "      <td>F</td>\n",
       "      <td>SALARY</td>\n",
       "      <td>129540</td>\n",
       "      <td>NaN</td>\n",
       "      <td>NaN</td>\n",
       "    </tr>\n",
       "    <tr>\n",
       "      <th>3</th>\n",
       "      <td>ABARCA-COMPTON, RUTH A</td>\n",
       "      <td>ATTORNEY</td>\n",
       "      <td>DEPARTMENT OF PUBLIC HEALTH</td>\n",
       "      <td>F</td>\n",
       "      <td>SALARY</td>\n",
       "      <td>117816</td>\n",
       "      <td>NaN</td>\n",
       "      <td>NaN</td>\n",
       "    </tr>\n",
       "    <tr>\n",
       "      <th>4</th>\n",
       "      <td>ABARCA, EMMANUEL</td>\n",
       "      <td>CONCRETE LABORER</td>\n",
       "      <td>CHICAGO DEPT OF TRANSPORTATION</td>\n",
       "      <td>F</td>\n",
       "      <td>HOURLY</td>\n",
       "      <td>NaN</td>\n",
       "      <td>40</td>\n",
       "      <td>48.9</td>\n",
       "    </tr>\n",
       "  </tbody>\n",
       "</table>\n",
       "</div>"
      ],
      "text/plain": [
       "                     name                              job_titles  \\\n",
       "0        AARON, JEFFERY M                              LIEUTENANT   \n",
       "1           AARON, KARINA  POLICE OFFICER (ASSIGNED AS DETECTIVE)   \n",
       "2      ABAD JR, VICENTE M                       CIVIL ENGINEER IV   \n",
       "3  ABARCA-COMPTON, RUTH A                                ATTORNEY   \n",
       "4        ABARCA, EMMANUEL                        CONCRETE LABORER   \n",
       "\n",
       "                       department full_or_part_time salary_or_hourly  \\\n",
       "0            DEPARTMENT OF POLICE                 F           SALARY   \n",
       "1            DEPARTMENT OF POLICE                 F           SALARY   \n",
       "2        DEPT OF WATER MANAGEMENT                 F           SALARY   \n",
       "3     DEPARTMENT OF PUBLIC HEALTH                 F           SALARY   \n",
       "4  CHICAGO DEPT OF TRANSPORTATION                 F           HOURLY   \n",
       "\n",
       "  annual_salary frequency_description hourly_rate  \n",
       "0        141552                   NaN         NaN  \n",
       "1        113568                   NaN         NaN  \n",
       "2        129540                   NaN         NaN  \n",
       "3        117816                   NaN         NaN  \n",
       "4           NaN                    40        48.9  "
      ]
     },
     "execution_count": 7,
     "metadata": {},
     "output_type": "execute_result"
    }
   ],
   "source": [
    "salary_df.head()"
   ]
  },
  {
   "cell_type": "code",
   "execution_count": 8,
   "id": "8452f670",
   "metadata": {},
   "outputs": [
    {
     "data": {
      "text/plain": [
       "name                       0\n",
       "job_titles                 0\n",
       "department                 0\n",
       "full_or_part_time          0\n",
       "salary_or_hourly           0\n",
       "annual_salary            175\n",
       "frequency_description    825\n",
       "hourly_rate              825\n",
       "dtype: int64"
      ]
     },
     "execution_count": 8,
     "metadata": {},
     "output_type": "execute_result"
    }
   ],
   "source": [
    "salary_df.isna().sum()"
   ]
  },
  {
   "cell_type": "code",
   "execution_count": 9,
   "id": "fd81a0ab",
   "metadata": {},
   "outputs": [],
   "source": [
    "salary_df_numeric_cols = ['annual_salary', 'frequency_description','hourly_rate']"
   ]
  },
  {
   "cell_type": "code",
   "execution_count": 10,
   "id": "546630f2",
   "metadata": {
    "scrolled": true
   },
   "outputs": [
    {
     "data": {
      "text/plain": [
       "name                      object\n",
       "job_titles                object\n",
       "department                object\n",
       "full_or_part_time         object\n",
       "salary_or_hourly          object\n",
       "annual_salary            float64\n",
       "frequency_description    float64\n",
       "hourly_rate              float64\n",
       "dtype: object"
      ]
     },
     "execution_count": 10,
     "metadata": {},
     "output_type": "execute_result"
    }
   ],
   "source": [
    "salary_df[salary_df_numeric_cols] = salary_df[salary_df_numeric_cols].apply(pd.to_numeric, errors='coerce')\n",
    "salary_df.dtypes"
   ]
  },
  {
   "cell_type": "code",
   "execution_count": 11,
   "id": "e5956531",
   "metadata": {
    "scrolled": false
   },
   "outputs": [],
   "source": [
    "#hourly workers only\n",
    "hrly_salary_df = salary_df[salary_df[\"salary_or_hourly\"]==\"HOURLY\"].copy()\n",
    "#salaried workers only\n",
    "annual_salary_df = salary_df[salary_df[\"salary_or_hourly\"]==\"SALARY\"].copy()"
   ]
  },
  {
   "cell_type": "code",
   "execution_count": 13,
   "id": "fa80a7fd",
   "metadata": {
    "scrolled": true
   },
   "outputs": [],
   "source": [
    "#check for \"F\" workers with \"HOURLY\" pay and annualized 52 weeks of pay for 40hr work weeks\n",
    "hrly_salary_df[\"annual_salary\"]=[float(x) for x in (hrly_salary_df[\"hourly_rate\"]*hrly_salary_df[\"frequency_description\"]*52)]"
   ]
  },
  {
   "cell_type": "code",
   "execution_count": 14,
   "id": "4fac0cee",
   "metadata": {},
   "outputs": [
    {
     "data": {
      "text/html": [
       "<div>\n",
       "<style scoped>\n",
       "    .dataframe tbody tr th:only-of-type {\n",
       "        vertical-align: middle;\n",
       "    }\n",
       "\n",
       "    .dataframe tbody tr th {\n",
       "        vertical-align: top;\n",
       "    }\n",
       "\n",
       "    .dataframe thead th {\n",
       "        text-align: right;\n",
       "    }\n",
       "</style>\n",
       "<table border=\"1\" class=\"dataframe\">\n",
       "  <thead>\n",
       "    <tr style=\"text-align: right;\">\n",
       "      <th></th>\n",
       "      <th>name</th>\n",
       "      <th>job_titles</th>\n",
       "      <th>department</th>\n",
       "      <th>full_or_part_time</th>\n",
       "      <th>salary_or_hourly</th>\n",
       "      <th>annual_salary</th>\n",
       "      <th>frequency_description</th>\n",
       "      <th>hourly_rate</th>\n",
       "    </tr>\n",
       "  </thead>\n",
       "  <tbody>\n",
       "    <tr>\n",
       "      <th>207</th>\n",
       "      <td>AGUAYO, REY D</td>\n",
       "      <td>CUSTODIAL WORKER</td>\n",
       "      <td>DEPARTMENT OF AVIATION</td>\n",
       "      <td>F</td>\n",
       "      <td>HOURLY</td>\n",
       "      <td>34736.0</td>\n",
       "      <td>40.0</td>\n",
       "      <td>16.7</td>\n",
       "    </tr>\n",
       "    <tr>\n",
       "      <th>208</th>\n",
       "      <td>AGUAYO, ROMEO D</td>\n",
       "      <td>CUSTODIAL WORKER</td>\n",
       "      <td>DEPARTMENT OF AVIATION</td>\n",
       "      <td>F</td>\n",
       "      <td>HOURLY</td>\n",
       "      <td>34736.0</td>\n",
       "      <td>40.0</td>\n",
       "      <td>16.7</td>\n",
       "    </tr>\n",
       "  </tbody>\n",
       "</table>\n",
       "</div>"
      ],
      "text/plain": [
       "                name        job_titles              department  \\\n",
       "207    AGUAYO, REY D  CUSTODIAL WORKER  DEPARTMENT OF AVIATION   \n",
       "208  AGUAYO, ROMEO D  CUSTODIAL WORKER  DEPARTMENT OF AVIATION   \n",
       "\n",
       "    full_or_part_time salary_or_hourly  annual_salary  frequency_description  \\\n",
       "207                 F           HOURLY        34736.0                   40.0   \n",
       "208                 F           HOURLY        34736.0                   40.0   \n",
       "\n",
       "     hourly_rate  \n",
       "207         16.7  \n",
       "208         16.7  "
      ]
     },
     "execution_count": 14,
     "metadata": {},
     "output_type": "execute_result"
    }
   ],
   "source": [
    "hrly_salary_df[hrly_salary_df[\"annual_salary\"]==hrly_salary_df[\"annual_salary\"].min()]"
   ]
  },
  {
   "cell_type": "code",
   "execution_count": 15,
   "id": "37d585e7",
   "metadata": {
    "scrolled": true
   },
   "outputs": [
    {
     "data": {
      "text/html": [
       "<div>\n",
       "<style scoped>\n",
       "    .dataframe tbody tr th:only-of-type {\n",
       "        vertical-align: middle;\n",
       "    }\n",
       "\n",
       "    .dataframe tbody tr th {\n",
       "        vertical-align: top;\n",
       "    }\n",
       "\n",
       "    .dataframe thead th {\n",
       "        text-align: right;\n",
       "    }\n",
       "</style>\n",
       "<table border=\"1\" class=\"dataframe\">\n",
       "  <thead>\n",
       "    <tr style=\"text-align: right;\">\n",
       "      <th></th>\n",
       "      <th>name</th>\n",
       "      <th>job_titles</th>\n",
       "      <th>department</th>\n",
       "      <th>full_or_part_time</th>\n",
       "      <th>salary_or_hourly</th>\n",
       "      <th>annual_salary</th>\n",
       "      <th>frequency_description</th>\n",
       "      <th>hourly_rate</th>\n",
       "    </tr>\n",
       "  </thead>\n",
       "  <tbody>\n",
       "    <tr>\n",
       "      <th>667</th>\n",
       "      <td>AMEDIO, ANTHONY</td>\n",
       "      <td>ASST CHIEF OPERATING ENGINEER</td>\n",
       "      <td>DEPT OF WATER MANAGEMENT</td>\n",
       "      <td>F</td>\n",
       "      <td>HOURLY</td>\n",
       "      <td>136364.8</td>\n",
       "      <td>40.0</td>\n",
       "      <td>65.56</td>\n",
       "    </tr>\n",
       "    <tr>\n",
       "      <th>773</th>\n",
       "      <td>ANDERSON, TARIQ A</td>\n",
       "      <td>ASST CHIEF OPERATING ENGINEER</td>\n",
       "      <td>DEPT OF WATER MANAGEMENT</td>\n",
       "      <td>F</td>\n",
       "      <td>HOURLY</td>\n",
       "      <td>136364.8</td>\n",
       "      <td>40.0</td>\n",
       "      <td>65.56</td>\n",
       "    </tr>\n",
       "    <tr>\n",
       "      <th>988</th>\n",
       "      <td>ARREDONDO, GABRIEL</td>\n",
       "      <td>ASST CHIEF OPERATING ENGINEER</td>\n",
       "      <td>DEPT OF WATER MANAGEMENT</td>\n",
       "      <td>F</td>\n",
       "      <td>HOURLY</td>\n",
       "      <td>136364.8</td>\n",
       "      <td>40.0</td>\n",
       "      <td>65.56</td>\n",
       "    </tr>\n",
       "  </tbody>\n",
       "</table>\n",
       "</div>"
      ],
      "text/plain": [
       "                   name                     job_titles  \\\n",
       "667     AMEDIO, ANTHONY  ASST CHIEF OPERATING ENGINEER   \n",
       "773   ANDERSON, TARIQ A  ASST CHIEF OPERATING ENGINEER   \n",
       "988  ARREDONDO, GABRIEL  ASST CHIEF OPERATING ENGINEER   \n",
       "\n",
       "                   department full_or_part_time salary_or_hourly  \\\n",
       "667  DEPT OF WATER MANAGEMENT                 F           HOURLY   \n",
       "773  DEPT OF WATER MANAGEMENT                 F           HOURLY   \n",
       "988  DEPT OF WATER MANAGEMENT                 F           HOURLY   \n",
       "\n",
       "     annual_salary  frequency_description  hourly_rate  \n",
       "667       136364.8                   40.0        65.56  \n",
       "773       136364.8                   40.0        65.56  \n",
       "988       136364.8                   40.0        65.56  "
      ]
     },
     "execution_count": 15,
     "metadata": {},
     "output_type": "execute_result"
    }
   ],
   "source": [
    "hrly_salary_df[hrly_salary_df[\"annual_salary\"]==hrly_salary_df[\"annual_salary\"].max()]"
   ]
  },
  {
   "cell_type": "code",
   "execution_count": 16,
   "id": "dfa3c170",
   "metadata": {},
   "outputs": [
    {
     "data": {
      "text/html": [
       "<div>\n",
       "<style scoped>\n",
       "    .dataframe tbody tr th:only-of-type {\n",
       "        vertical-align: middle;\n",
       "    }\n",
       "\n",
       "    .dataframe tbody tr th {\n",
       "        vertical-align: top;\n",
       "    }\n",
       "\n",
       "    .dataframe thead th {\n",
       "        text-align: right;\n",
       "    }\n",
       "</style>\n",
       "<table border=\"1\" class=\"dataframe\">\n",
       "  <thead>\n",
       "    <tr style=\"text-align: right;\">\n",
       "      <th></th>\n",
       "      <th>name</th>\n",
       "      <th>job_titles</th>\n",
       "      <th>department</th>\n",
       "      <th>full_or_part_time</th>\n",
       "      <th>salary_or_hourly</th>\n",
       "      <th>annual_salary</th>\n",
       "      <th>frequency_description</th>\n",
       "      <th>hourly_rate</th>\n",
       "    </tr>\n",
       "  </thead>\n",
       "  <tbody>\n",
       "    <tr>\n",
       "      <th>168</th>\n",
       "      <td>ADELMAN, BRUCE E</td>\n",
       "      <td>LEGISLATIVE AIDE</td>\n",
       "      <td>CITY COUNCIL</td>\n",
       "      <td>F</td>\n",
       "      <td>SALARY</td>\n",
       "      <td>22920.0</td>\n",
       "      <td>NaN</td>\n",
       "      <td>NaN</td>\n",
       "    </tr>\n",
       "  </tbody>\n",
       "</table>\n",
       "</div>"
      ],
      "text/plain": [
       "                 name        job_titles    department full_or_part_time  \\\n",
       "168  ADELMAN, BRUCE E  LEGISLATIVE AIDE  CITY COUNCIL                 F   \n",
       "\n",
       "    salary_or_hourly  annual_salary  frequency_description  hourly_rate  \n",
       "168           SALARY        22920.0                    NaN          NaN  "
      ]
     },
     "execution_count": 16,
     "metadata": {},
     "output_type": "execute_result"
    }
   ],
   "source": [
    "annual_salary_df[annual_salary_df[\"annual_salary\"]==annual_salary_df[\"annual_salary\"].min()]"
   ]
  },
  {
   "cell_type": "code",
   "execution_count": 17,
   "id": "a07307b1",
   "metadata": {},
   "outputs": [
    {
     "data": {
      "text/html": [
       "<div>\n",
       "<style scoped>\n",
       "    .dataframe tbody tr th:only-of-type {\n",
       "        vertical-align: middle;\n",
       "    }\n",
       "\n",
       "    .dataframe tbody tr th {\n",
       "        vertical-align: top;\n",
       "    }\n",
       "\n",
       "    .dataframe thead th {\n",
       "        text-align: right;\n",
       "    }\n",
       "</style>\n",
       "<table border=\"1\" class=\"dataframe\">\n",
       "  <thead>\n",
       "    <tr style=\"text-align: right;\">\n",
       "      <th></th>\n",
       "      <th>name</th>\n",
       "      <th>job_titles</th>\n",
       "      <th>department</th>\n",
       "      <th>full_or_part_time</th>\n",
       "      <th>salary_or_hourly</th>\n",
       "      <th>annual_salary</th>\n",
       "      <th>frequency_description</th>\n",
       "      <th>hourly_rate</th>\n",
       "    </tr>\n",
       "  </thead>\n",
       "  <tbody>\n",
       "    <tr>\n",
       "      <th>94</th>\n",
       "      <td>ACHILLES, AMBER L</td>\n",
       "      <td>MANAGING DEPUTY COMMISSIONER</td>\n",
       "      <td>DEPARTMENT OF AVIATION</td>\n",
       "      <td>F</td>\n",
       "      <td>SALARY</td>\n",
       "      <td>190044.0</td>\n",
       "      <td>NaN</td>\n",
       "      <td>NaN</td>\n",
       "    </tr>\n",
       "  </tbody>\n",
       "</table>\n",
       "</div>"
      ],
      "text/plain": [
       "                 name                    job_titles              department  \\\n",
       "94  ACHILLES, AMBER L  MANAGING DEPUTY COMMISSIONER  DEPARTMENT OF AVIATION   \n",
       "\n",
       "   full_or_part_time salary_or_hourly  annual_salary  frequency_description  \\\n",
       "94                 F           SALARY       190044.0                    NaN   \n",
       "\n",
       "    hourly_rate  \n",
       "94          NaN  "
      ]
     },
     "execution_count": 17,
     "metadata": {},
     "output_type": "execute_result"
    }
   ],
   "source": [
    "annual_salary_df[annual_salary_df[\"annual_salary\"]==annual_salary_df[\"annual_salary\"].max()]"
   ]
  },
  {
   "cell_type": "code",
   "execution_count": null,
   "id": "79910bd7",
   "metadata": {},
   "outputs": [],
   "source": []
  }
 ],
 "metadata": {
  "kernelspec": {
   "display_name": "Python 3 (ipykernel)",
   "language": "python",
   "name": "python3"
  },
  "language_info": {
   "codemirror_mode": {
    "name": "ipython",
    "version": 3
   },
   "file_extension": ".py",
   "mimetype": "text/x-python",
   "name": "python",
   "nbconvert_exporter": "python",
   "pygments_lexer": "ipython3",
   "version": "3.11.4"
  }
 },
 "nbformat": 4,
 "nbformat_minor": 5
}
