{
 "cells": [
  {
   "cell_type": "code",
   "execution_count": null,
   "id": "0b9d016c",
   "metadata": {},
   "outputs": [],
   "source": [
    "#https://data.cityofchicago.org/resource/s6ha-ppgi.json"
   ]
  },
  {
   "cell_type": "code",
   "execution_count": 1,
   "id": "ff6e77f6",
   "metadata": {},
   "outputs": [],
   "source": [
    "import numpy as np\n",
    "import pandas as pd\n",
    "import requests\n",
    "from sklearn.impute import SimpleImputer\n",
    "import seaborn.objects as so"
   ]
  },
  {
   "cell_type": "code",
   "execution_count": 2,
   "id": "ce1af5e7",
   "metadata": {},
   "outputs": [],
   "source": [
    "url = 'https://data.cityofchicago.org/resource/s6ha-ppgi.json'"
   ]
  },
  {
   "cell_type": "code",
   "execution_count": 3,
   "id": "b32b6401",
   "metadata": {},
   "outputs": [
    {
     "data": {
      "text/plain": [
       "<Response [200]>"
      ]
     },
     "execution_count": 3,
     "metadata": {},
     "output_type": "execute_result"
    }
   ],
   "source": [
    "# make get request for city of chicago salary data and check response\n",
    "r = requests.get(url)\n",
    "r"
   ]
  },
  {
   "cell_type": "code",
   "execution_count": 21,
   "id": "95ab2bfd",
   "metadata": {},
   "outputs": [],
   "source": [
    "json = r.json()"
   ]
  },
  {
   "cell_type": "code",
   "execution_count": 22,
   "id": "9bfdbe67",
   "metadata": {},
   "outputs": [],
   "source": [
    "# save json content to dataframe\n",
    "affordable_housing_chi = pd.DataFrame(json)"
   ]
  },
  {
   "cell_type": "code",
   "execution_count": 23,
   "id": "30b9742c",
   "metadata": {},
   "outputs": [
    {
     "data": {
      "text/html": [
       "<div>\n",
       "<style scoped>\n",
       "    .dataframe tbody tr th:only-of-type {\n",
       "        vertical-align: middle;\n",
       "    }\n",
       "\n",
       "    .dataframe tbody tr th {\n",
       "        vertical-align: top;\n",
       "    }\n",
       "\n",
       "    .dataframe thead th {\n",
       "        text-align: right;\n",
       "    }\n",
       "</style>\n",
       "<table border=\"1\" class=\"dataframe\">\n",
       "  <thead>\n",
       "    <tr style=\"text-align: right;\">\n",
       "      <th></th>\n",
       "      <th>community_area</th>\n",
       "      <th>community_area_number</th>\n",
       "      <th>property_type</th>\n",
       "      <th>property_name</th>\n",
       "      <th>address</th>\n",
       "      <th>zip_code</th>\n",
       "      <th>phone_number</th>\n",
       "      <th>management_company</th>\n",
       "      <th>units</th>\n",
       "      <th>x_coordinate</th>\n",
       "      <th>y_coordinate</th>\n",
       "      <th>latitude</th>\n",
       "      <th>longitude</th>\n",
       "      <th>location</th>\n",
       "      <th>:@computed_region_awaf_s7ux</th>\n",
       "      <th>:@computed_region_43wa_7qmu</th>\n",
       "      <th>:@computed_region_vrxf_vc4k</th>\n",
       "      <th>:@computed_region_6mkv_f3dw</th>\n",
       "      <th>:@computed_region_bdys_3d7i</th>\n",
       "    </tr>\n",
       "  </thead>\n",
       "  <tbody>\n",
       "    <tr>\n",
       "      <th>0</th>\n",
       "      <td>East Garfield Park</td>\n",
       "      <td>27</td>\n",
       "      <td>Multifamily</td>\n",
       "      <td>Liberty Square Apts.</td>\n",
       "      <td>705-23 S. Independence Ave.</td>\n",
       "      <td>60624</td>\n",
       "      <td>773-538-3800</td>\n",
       "      <td>Bonheur Realty Services Corp.</td>\n",
       "      <td>66</td>\n",
       "      <td>1151407.461</td>\n",
       "      <td>1896705.24</td>\n",
       "      <td>41.87244138</td>\n",
       "      <td>-87.71958599</td>\n",
       "      <td>{'latitude': '41.8724413775792', 'longitude': ...</td>\n",
       "      <td>36</td>\n",
       "      <td>14</td>\n",
       "      <td>28</td>\n",
       "      <td>21572</td>\n",
       "      <td>704</td>\n",
       "    </tr>\n",
       "    <tr>\n",
       "      <th>1</th>\n",
       "      <td>North Lawndale</td>\n",
       "      <td>29</td>\n",
       "      <td>Multifamily</td>\n",
       "      <td>Renaissance Place Apts.</td>\n",
       "      <td>3128 W. Douglas Blvd.</td>\n",
       "      <td>60623</td>\n",
       "      <td>773-762-3389</td>\n",
       "      <td>Lawndale Christian Residential Svcs.</td>\n",
       "      <td>11</td>\n",
       "      <td>1155600.26</td>\n",
       "      <td>1893326.92</td>\n",
       "      <td>41.86308761</td>\n",
       "      <td>-87.70428319</td>\n",
       "      <td>{'latitude': '41.8630876114313', 'longitude': ...</td>\n",
       "      <td>36</td>\n",
       "      <td>14</td>\n",
       "      <td>30</td>\n",
       "      <td>21569</td>\n",
       "      <td>132</td>\n",
       "    </tr>\n",
       "    <tr>\n",
       "      <th>2</th>\n",
       "      <td>Humboldt Park</td>\n",
       "      <td>23</td>\n",
       "      <td>Multifamily</td>\n",
       "      <td>Rosa Parks Apts.</td>\n",
       "      <td>532 N. Trumbull Ave.</td>\n",
       "      <td>60624</td>\n",
       "      <td>773-227-6332</td>\n",
       "      <td>Bickerdike Apts.</td>\n",
       "      <td>15</td>\n",
       "      <td>1153240.184</td>\n",
       "      <td>1903567.266</td>\n",
       "      <td>41.89123533</td>\n",
       "      <td>-87.71267502</td>\n",
       "      <td>{'latitude': '41.8912353311207', 'longitude': ...</td>\n",
       "      <td>41</td>\n",
       "      <td>46</td>\n",
       "      <td>24</td>\n",
       "      <td>21572</td>\n",
       "      <td>584</td>\n",
       "    </tr>\n",
       "    <tr>\n",
       "      <th>3</th>\n",
       "      <td>Garfield Ridge</td>\n",
       "      <td>56</td>\n",
       "      <td>Senior</td>\n",
       "      <td>Midway Pointe Senior Living</td>\n",
       "      <td>5011 W. 47th St.</td>\n",
       "      <td>60638</td>\n",
       "      <td>872-302-4010</td>\n",
       "      <td>Perlmark Realty Management LLC</td>\n",
       "      <td>85</td>\n",
       "      <td>1143675.613</td>\n",
       "      <td>1872964.362</td>\n",
       "      <td>41.80744124</td>\n",
       "      <td>-87.74856678</td>\n",
       "      <td>{'latitude': '41.8074412434739', 'longitude': ...</td>\n",
       "      <td>35</td>\n",
       "      <td>28</td>\n",
       "      <td>53</td>\n",
       "      <td>22268</td>\n",
       "      <td>605</td>\n",
       "    </tr>\n",
       "    <tr>\n",
       "      <th>4</th>\n",
       "      <td>Uptown</td>\n",
       "      <td>3</td>\n",
       "      <td>Supportive</td>\n",
       "      <td>Carlton Terrace</td>\n",
       "      <td>4626 N. Magnolia Ave.</td>\n",
       "      <td>60640</td>\n",
       "      <td>773-649-4639</td>\n",
       "      <td>Mercy Housing Management Group</td>\n",
       "      <td>70</td>\n",
       "      <td>1167071.996</td>\n",
       "      <td>1929651.057</td>\n",
       "      <td>41.96252489</td>\n",
       "      <td>-87.66112652</td>\n",
       "      <td>{'latitude': '41.96252489219771', 'longitude':...</td>\n",
       "      <td>37</td>\n",
       "      <td>39</td>\n",
       "      <td>31</td>\n",
       "      <td>22616</td>\n",
       "      <td>611</td>\n",
       "    </tr>\n",
       "    <tr>\n",
       "      <th>5</th>\n",
       "      <td>New City</td>\n",
       "      <td>61</td>\n",
       "      <td>Multifamily</td>\n",
       "      <td>Casa Hidalgo</td>\n",
       "      <td>4600 S. Wood St.</td>\n",
       "      <td>60609</td>\n",
       "      <td>312-248-8355</td>\n",
       "      <td>The Resurrection Project</td>\n",
       "      <td>10</td>\n",
       "      <td>1165081.4</td>\n",
       "      <td>1874156.261</td>\n",
       "      <td>41.81028546</td>\n",
       "      <td>-87.67002227</td>\n",
       "      <td>{'latitude': '41.8102854562714', 'longitude': ...</td>\n",
       "      <td>53</td>\n",
       "      <td>3</td>\n",
       "      <td>59</td>\n",
       "      <td>14924</td>\n",
       "      <td>706</td>\n",
       "    </tr>\n",
       "    <tr>\n",
       "      <th>6</th>\n",
       "      <td>Near West Side</td>\n",
       "      <td>28</td>\n",
       "      <td>Multifamily</td>\n",
       "      <td>Westhaven Park Phase IIA</td>\n",
       "      <td>2237 W. Maypole Ave.</td>\n",
       "      <td>60612</td>\n",
       "      <td>312-455-0009</td>\n",
       "      <td>Interstate Realty Management Co.</td>\n",
       "      <td>92</td>\n",
       "      <td>1161390.347</td>\n",
       "      <td>1900920.966</td>\n",
       "      <td>41.88380799</td>\n",
       "      <td>-87.68281702</td>\n",
       "      <td>{'latitude': '41.8838079875001', 'longitude': ...</td>\n",
       "      <td>48</td>\n",
       "      <td>46</td>\n",
       "      <td>29</td>\n",
       "      <td>21184</td>\n",
       "      <td>37</td>\n",
       "    </tr>\n",
       "    <tr>\n",
       "      <th>7</th>\n",
       "      <td>Logan Square</td>\n",
       "      <td>22</td>\n",
       "      <td>Multifamily</td>\n",
       "      <td>Zapata Apts.</td>\n",
       "      <td>1955 N. St. Louis Ave.</td>\n",
       "      <td>60647</td>\n",
       "      <td>773-227-6332</td>\n",
       "      <td>Bickerdike Apartments</td>\n",
       "      <td>3</td>\n",
       "      <td>1152977.196</td>\n",
       "      <td>1913047.516</td>\n",
       "      <td>41.91725524</td>\n",
       "      <td>-87.71338923</td>\n",
       "      <td>{'latitude': '41.9172552391374', 'longitude': ...</td>\n",
       "      <td>15</td>\n",
       "      <td>49</td>\n",
       "      <td>23</td>\n",
       "      <td>22535</td>\n",
       "      <td>387</td>\n",
       "    </tr>\n",
       "    <tr>\n",
       "      <th>8</th>\n",
       "      <td>West Ridge</td>\n",
       "      <td>2</td>\n",
       "      <td>ARO</td>\n",
       "      <td>5822 North Western, LLC</td>\n",
       "      <td>5822 N. Western Ave.</td>\n",
       "      <td>60659</td>\n",
       "      <td>773-572-2755</td>\n",
       "      <td>Chicago Apartment Finders</td>\n",
       "      <td>2</td>\n",
       "      <td>1159227.225</td>\n",
       "      <td>1938700.509</td>\n",
       "      <td>41.98752226</td>\n",
       "      <td>-87.68971871</td>\n",
       "      <td>{'latitude': '41.9875222634019', 'longitude': ...</td>\n",
       "      <td>46</td>\n",
       "      <td>24</td>\n",
       "      <td>20</td>\n",
       "      <td>4450</td>\n",
       "      <td>15</td>\n",
       "    </tr>\n",
       "    <tr>\n",
       "      <th>9</th>\n",
       "      <td>Uptown</td>\n",
       "      <td>3</td>\n",
       "      <td>ARO</td>\n",
       "      <td>4420 N. Sheridan Apts.</td>\n",
       "      <td>4420 N. Sheridan Road</td>\n",
       "      <td>60640</td>\n",
       "      <td>312-850-2620</td>\n",
       "      <td>Quest Chicago</td>\n",
       "      <td>1</td>\n",
       "      <td>1168764.798</td>\n",
       "      <td>1929620.837</td>\n",
       "      <td>41.96240536</td>\n",
       "      <td>-87.65490367</td>\n",
       "      <td>{'latitude': '41.9624053580997', 'longitude': ...</td>\n",
       "      <td>37</td>\n",
       "      <td>39</td>\n",
       "      <td>31</td>\n",
       "      <td>22616</td>\n",
       "      <td>241</td>\n",
       "    </tr>\n",
       "  </tbody>\n",
       "</table>\n",
       "</div>"
      ],
      "text/plain": [
       "       community_area community_area_number property_type  \\\n",
       "0  East Garfield Park                    27   Multifamily   \n",
       "1      North Lawndale                    29   Multifamily   \n",
       "2       Humboldt Park                    23   Multifamily   \n",
       "3      Garfield Ridge                    56        Senior   \n",
       "4              Uptown                     3    Supportive   \n",
       "5            New City                    61   Multifamily   \n",
       "6      Near West Side                    28   Multifamily   \n",
       "7        Logan Square                    22   Multifamily   \n",
       "8          West Ridge                     2           ARO   \n",
       "9              Uptown                     3           ARO   \n",
       "\n",
       "                 property_name                      address zip_code  \\\n",
       "0         Liberty Square Apts.  705-23 S. Independence Ave.    60624   \n",
       "1      Renaissance Place Apts.        3128 W. Douglas Blvd.    60623   \n",
       "2             Rosa Parks Apts.         532 N. Trumbull Ave.    60624   \n",
       "3  Midway Pointe Senior Living             5011 W. 47th St.    60638   \n",
       "4              Carlton Terrace        4626 N. Magnolia Ave.    60640   \n",
       "5                 Casa Hidalgo             4600 S. Wood St.    60609   \n",
       "6     Westhaven Park Phase IIA         2237 W. Maypole Ave.    60612   \n",
       "7                 Zapata Apts.       1955 N. St. Louis Ave.    60647   \n",
       "8      5822 North Western, LLC         5822 N. Western Ave.    60659   \n",
       "9       4420 N. Sheridan Apts.        4420 N. Sheridan Road    60640   \n",
       "\n",
       "   phone_number                    management_company units x_coordinate  \\\n",
       "0  773-538-3800         Bonheur Realty Services Corp.    66  1151407.461   \n",
       "1  773-762-3389  Lawndale Christian Residential Svcs.    11   1155600.26   \n",
       "2  773-227-6332                      Bickerdike Apts.    15  1153240.184   \n",
       "3  872-302-4010        Perlmark Realty Management LLC    85  1143675.613   \n",
       "4  773-649-4639        Mercy Housing Management Group    70  1167071.996   \n",
       "5  312-248-8355              The Resurrection Project    10    1165081.4   \n",
       "6  312-455-0009      Interstate Realty Management Co.    92  1161390.347   \n",
       "7  773-227-6332                 Bickerdike Apartments     3  1152977.196   \n",
       "8  773-572-2755             Chicago Apartment Finders     2  1159227.225   \n",
       "9  312-850-2620                         Quest Chicago     1  1168764.798   \n",
       "\n",
       "  y_coordinate     latitude     longitude  \\\n",
       "0   1896705.24  41.87244138  -87.71958599   \n",
       "1   1893326.92  41.86308761  -87.70428319   \n",
       "2  1903567.266  41.89123533  -87.71267502   \n",
       "3  1872964.362  41.80744124  -87.74856678   \n",
       "4  1929651.057  41.96252489  -87.66112652   \n",
       "5  1874156.261  41.81028546  -87.67002227   \n",
       "6  1900920.966  41.88380799  -87.68281702   \n",
       "7  1913047.516  41.91725524  -87.71338923   \n",
       "8  1938700.509  41.98752226  -87.68971871   \n",
       "9  1929620.837  41.96240536  -87.65490367   \n",
       "\n",
       "                                            location  \\\n",
       "0  {'latitude': '41.8724413775792', 'longitude': ...   \n",
       "1  {'latitude': '41.8630876114313', 'longitude': ...   \n",
       "2  {'latitude': '41.8912353311207', 'longitude': ...   \n",
       "3  {'latitude': '41.8074412434739', 'longitude': ...   \n",
       "4  {'latitude': '41.96252489219771', 'longitude':...   \n",
       "5  {'latitude': '41.8102854562714', 'longitude': ...   \n",
       "6  {'latitude': '41.8838079875001', 'longitude': ...   \n",
       "7  {'latitude': '41.9172552391374', 'longitude': ...   \n",
       "8  {'latitude': '41.9875222634019', 'longitude': ...   \n",
       "9  {'latitude': '41.9624053580997', 'longitude': ...   \n",
       "\n",
       "  :@computed_region_awaf_s7ux :@computed_region_43wa_7qmu  \\\n",
       "0                          36                          14   \n",
       "1                          36                          14   \n",
       "2                          41                          46   \n",
       "3                          35                          28   \n",
       "4                          37                          39   \n",
       "5                          53                           3   \n",
       "6                          48                          46   \n",
       "7                          15                          49   \n",
       "8                          46                          24   \n",
       "9                          37                          39   \n",
       "\n",
       "  :@computed_region_vrxf_vc4k :@computed_region_6mkv_f3dw  \\\n",
       "0                          28                       21572   \n",
       "1                          30                       21569   \n",
       "2                          24                       21572   \n",
       "3                          53                       22268   \n",
       "4                          31                       22616   \n",
       "5                          59                       14924   \n",
       "6                          29                       21184   \n",
       "7                          23                       22535   \n",
       "8                          20                        4450   \n",
       "9                          31                       22616   \n",
       "\n",
       "  :@computed_region_bdys_3d7i  \n",
       "0                         704  \n",
       "1                         132  \n",
       "2                         584  \n",
       "3                         605  \n",
       "4                         611  \n",
       "5                         706  \n",
       "6                          37  \n",
       "7                         387  \n",
       "8                          15  \n",
       "9                         241  "
      ]
     },
     "execution_count": 23,
     "metadata": {},
     "output_type": "execute_result"
    }
   ],
   "source": [
    "affordable_housing_chi.head(10)"
   ]
  },
  {
   "cell_type": "code",
   "execution_count": 28,
   "id": "ba97e3d8",
   "metadata": {},
   "outputs": [
    {
     "data": {
      "text/plain": [
       "community_area                 object\n",
       "community_area_number          object\n",
       "property_type                  object\n",
       "property_name                  object\n",
       "address                        object\n",
       "zip_code                       object\n",
       "phone_number                   object\n",
       "management_company             object\n",
       "units                          object\n",
       "x_coordinate                   object\n",
       "y_coordinate                   object\n",
       "latitude                       object\n",
       "longitude                      object\n",
       "location                       object\n",
       ":@computed_region_awaf_s7ux    object\n",
       ":@computed_region_43wa_7qmu    object\n",
       ":@computed_region_vrxf_vc4k    object\n",
       ":@computed_region_6mkv_f3dw    object\n",
       ":@computed_region_bdys_3d7i    object\n",
       "dtype: object"
      ]
     },
     "execution_count": 28,
     "metadata": {},
     "output_type": "execute_result"
    }
   ],
   "source": [
    "affordable_housing_chi.dtypes"
   ]
  },
  {
   "cell_type": "code",
   "execution_count": 31,
   "id": "01c7a2b9",
   "metadata": {},
   "outputs": [
    {
     "data": {
      "text/plain": [
       "community_area                  object\n",
       "community_area_number           object\n",
       "property_type                   object\n",
       "property_name                   object\n",
       "address                         object\n",
       "zip_code                        object\n",
       "phone_number                    object\n",
       "management_company              object\n",
       "units                            int64\n",
       "x_coordinate                   float64\n",
       "y_coordinate                   float64\n",
       "latitude                       float64\n",
       "longitude                      float64\n",
       "location                        object\n",
       ":@computed_region_awaf_s7ux     object\n",
       ":@computed_region_43wa_7qmu     object\n",
       ":@computed_region_vrxf_vc4k     object\n",
       ":@computed_region_6mkv_f3dw     object\n",
       ":@computed_region_bdys_3d7i     object\n",
       "dtype: object"
      ]
     },
     "execution_count": 31,
     "metadata": {},
     "output_type": "execute_result"
    }
   ],
   "source": [
    "# convert numeric columns to float\n",
    "affordable_housing_chi_num_cols = [\"units\", \"x_coordinate\", \"y_coordinate\", \"latitude\", \"longitude\"]\n",
    "affordable_housing_chi[affordable_housing_chi_num_cols] = affordable_housing_chi[affordable_housing_chi_num_cols].apply(pd.to_numeric, errors='coerce')\n",
    "affordable_housing_chi.dtypes"
   ]
  },
  {
   "cell_type": "code",
   "execution_count": 33,
   "id": "bf286ebb",
   "metadata": {},
   "outputs": [
    {
     "data": {
      "text/plain": [
       "community_area                 0\n",
       "community_area_number          0\n",
       "property_type                  0\n",
       "property_name                  0\n",
       "address                        0\n",
       "zip_code                       0\n",
       "phone_number                   0\n",
       "management_company             0\n",
       "units                          0\n",
       "x_coordinate                   0\n",
       "y_coordinate                   0\n",
       "latitude                       0\n",
       "longitude                      0\n",
       "location                       3\n",
       ":@computed_region_awaf_s7ux    5\n",
       ":@computed_region_43wa_7qmu    5\n",
       ":@computed_region_vrxf_vc4k    5\n",
       ":@computed_region_6mkv_f3dw    5\n",
       ":@computed_region_bdys_3d7i    5\n",
       "dtype: int64"
      ]
     },
     "execution_count": 33,
     "metadata": {},
     "output_type": "execute_result"
    }
   ],
   "source": [
    "# How much data is missing? \n",
    "affordable_housing_chi.isna().sum()"
   ]
  },
  {
   "cell_type": "code",
   "execution_count": 35,
   "id": "e2c8dd49",
   "metadata": {
    "scrolled": true
   },
   "outputs": [
    {
     "data": {
      "text/plain": [
       "<Axes: >"
      ]
     },
     "execution_count": 35,
     "metadata": {},
     "output_type": "execute_result"
    },
    {
     "data": {
      "image/png": "[encoded data removed]",
      "text/plain": [
       "<Figure size 640x480 with 1 Axes>"
      ]
     },
     "metadata": {},
     "output_type": "display_data"
    }
   ],
   "source": [
    "df2 = affordable_housing_chi.groupby('community_area')['units'].sum()\n",
    "df2.hist()"
   ]
  },
  {
   "cell_type": "code",
   "execution_count": 41,
   "id": "bb4d6557",
   "metadata": {},
   "outputs": [
    {
     "data": {
      "text/plain": [
       "count      67.000000\n",
       "mean      435.373134\n",
       "std       481.481232\n",
       "min        23.000000\n",
       "25%       101.000000\n",
       "50%       228.000000\n",
       "75%       575.000000\n",
       "max      2406.000000\n",
       "Name: units, dtype: float64"
      ]
     },
     "execution_count": 41,
     "metadata": {},
     "output_type": "execute_result"
    }
   ],
   "source": [
    "df2.describe()"
   ]
  },
  {
   "cell_type": "code",
   "execution_count": 42,
   "id": "620fe488",
   "metadata": {},
   "outputs": [
    {
     "data": {
      "text/plain": [
       "community_area\n",
       "Loop                        23\n",
       "Brighton Park               30\n",
       "Lincoln Square              36\n",
       "South Lawndale              39\n",
       "Greater Grand Crossing      56\n",
       "                          ... \n",
       "Near North Side           1241\n",
       "Near South Side           1372\n",
       "Uptown                    1407\n",
       "Near West Side            1782\n",
       "Grand Boulevard           2406\n",
       "Name: units, Length: 67, dtype: int64"
      ]
     },
     "execution_count": 42,
     "metadata": {},
     "output_type": "execute_result"
    }
   ],
   "source": [
    "df2.sort_values()"
   ]
  },
  {
   "cell_type": "code",
   "execution_count": null,
   "id": "d74c4082",
   "metadata": {},
   "outputs": [],
   "source": []
  },
  {
   "cell_type": "code",
   "execution_count": null,
   "id": "0ccbcf48",
   "metadata": {},
   "outputs": [],
   "source": []
  }
 ],
 "metadata": {
  "kernelspec": {
   "display_name": "Python 3 (ipykernel)",
   "language": "python",
   "name": "python3"
  },
  "language_info": {
   "codemirror_mode": {
    "name": "ipython",
    "version": 3
   },
   "file_extension": ".py",
   "mimetype": "text/x-python",
   "name": "python",
   "nbconvert_exporter": "python",
   "pygments_lexer": "ipython3",
   "version": "3.11.4"
  }
 },
 "nbformat": 4,
 "nbformat_minor": 5
}
