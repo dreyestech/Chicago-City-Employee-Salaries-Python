{
 "cells": [
  {
   "cell_type": "code",
   "execution_count": null,
   "id": "0dbbdb49",
   "metadata": {},
   "outputs": [],
   "source": [
    "import numpy as np\n",
    "import pandas as pd\n",
    "import requests\n",
    "from sklearn.impute import SimpleImputer"
   ]
  },
  {
   "cell_type": "code",
   "execution_count": null,
   "id": "fae346d9",
   "metadata": {},
   "outputs": [],
   "source": [
    "url = 'https://data.cityofchicago.org/resource/n4bx-5kf6.json'"
   ]
  },
  {
   "cell_type": "code",
   "execution_count": null,
   "id": "10e2c96b",
   "metadata": {},
   "outputs": [],
   "source": [
    "#make get request for city of chicago salary data\n",
    "r = requests.get(url)"
   ]
  },
  {
   "cell_type": "code",
   "execution_count": null,
   "id": "d114d0e3",
   "metadata": {},
   "outputs": [],
   "source": [
    "#check response is 200\n",
    "r"
   ]
  },
  {
   "cell_type": "code",
   "execution_count": null,
   "id": "8b936151",
   "metadata": {},
   "outputs": [],
   "source": [
    "#save json content to json save to dataframe\n",
    "json = r.json()"
   ]
  },
  {
   "cell_type": "code",
   "execution_count": null,
   "id": "fcc802e9",
   "metadata": {},
   "outputs": [],
   "source": [
    "salary_df = pd.DataFrame(json)"
   ]
  },
  {
   "cell_type": "code",
   "execution_count": null,
   "id": "17f88058",
   "metadata": {},
   "outputs": [],
   "source": [
    "salary_df.head()"
   ]
  },
  {
   "cell_type": "code",
   "execution_count": null,
   "id": "8452f670",
   "metadata": {},
   "outputs": [],
   "source": [
    "salary_df.isna().sum()"
   ]
  },
  {
   "cell_type": "code",
   "execution_count": null,
   "id": "fd81a0ab",
   "metadata": {},
   "outputs": [],
   "source": [
    "salary_df_numeric_cols = ['annual_salary', 'frequency_description','hourly_rate']"
   ]
  },
  {
   "cell_type": "code",
   "execution_count": null,
   "id": "546630f2",
   "metadata": {},
   "outputs": [],
   "source": [
    "salary_df[salary_df_numeric_cols] = salary_df[salary_df_numeric_cols].apply(pd.to_numeric, errors='coerce')\n",
    "salary_df[salary_df[\"hourly_rate\"]==\"NaN\"]=np.nan\n",
    "salary_df.dtypes"
   ]
  },
  {
   "cell_type": "code",
   "execution_count": null,
   "id": "7f00879f",
   "metadata": {
    "scrolled": false
   },
   "outputs": [],
   "source": [
    "#hourly workers only\n",
    "hrly_salary_df = salary_df[salary_df[\"annual_salary\"].isna()].copy()\n",
    "hrly_salary_df"
   ]
  },
  {
   "cell_type": "code",
   "execution_count": null,
   "id": "9fe1535d",
   "metadata": {},
   "outputs": [],
   "source": []
  },
  {
   "cell_type": "code",
   "execution_count": null,
   "id": "fa80a7fd",
   "metadata": {
    "scrolled": true
   },
   "outputs": [],
   "source": [
    "#check for \"F\" workers with \"HOURLY\" pay and annualized 52 weeks of pay for 40hr work weeks\n",
    "hrly_salary_df[\"annual_salary\"]=[float(x) for x in (hrly_salary_df[\"hourly_rate\"]*hrly_salary_df[\"frequency_description\"]*52)]"
   ]
  },
  {
   "cell_type": "code",
   "execution_count": null,
   "id": "4fac0cee",
   "metadata": {},
   "outputs": [],
   "source": [
    "hrly_salary_df[hrly_salary_df[\"annual_salary\"]==hrly_salary_df[\"annual_salary\"].min()]"
   ]
  },
  {
   "cell_type": "code",
   "execution_count": null,
   "id": "37d585e7",
   "metadata": {
    "scrolled": true
   },
   "outputs": [],
   "source": [
    "hrly_salary_df[hrly_salary_df[\"annual_salary\"]==hrly_salary_df[\"annual_salary\"].max()]"
   ]
  },
  {
   "cell_type": "code",
   "execution_count": null,
   "id": "f9f1d4a5",
   "metadata": {},
   "outputs": [],
   "source": []
  }
 ],
 "metadata": {
  "kernelspec": {
   "display_name": "Python 3 (ipykernel)",
   "language": "python",
   "name": "python3"
  },
  "language_info": {
   "codemirror_mode": {
    "name": "ipython",
    "version": 3
   },
   "file_extension": ".py",
   "mimetype": "text/x-python",
   "name": "python",
   "nbconvert_exporter": "python",
   "pygments_lexer": "ipython3",
   "version": "3.11.4"
  }
 },
 "nbformat": 4,
 "nbformat_minor": 5
}
